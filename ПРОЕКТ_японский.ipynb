{
  "nbformat": 4,
  "nbformat_minor": 0,
  "metadata": {
    "colab": {
      "provenance": [],
      "authorship_tag": "ABX9TyP3Gc9XtPeRbJByNu+5bFYT",
      "include_colab_link": true
    },
    "kernelspec": {
      "name": "python3",
      "display_name": "Python 3"
    },
    "language_info": {
      "name": "python"
    }
  },
  "cells": [
    {
      "cell_type": "markdown",
      "metadata": {
        "id": "view-in-github",
        "colab_type": "text"
      },
      "source": [
        "<a href=\"https://colab.research.google.com/github/luchia0602/OOP/blob/main/%D0%9F%D0%A0%D0%9E%D0%95%D0%9A%D0%A2_%D1%8F%D0%BF%D0%BE%D0%BD%D1%81%D0%BA%D0%B8%D0%B9.ipynb\" target=\"_parent\"><img src=\"https://colab.research.google.com/assets/colab-badge.svg\" alt=\"Open In Colab\"/></a>"
      ]
    },
    {
      "cell_type": "code",
      "execution_count": null,
      "metadata": {
        "id": "EsO9fFPuhFot"
      },
      "outputs": [],
      "source": [
        "!pip3 install razdel\n",
        "!pip3 install sentence-transformers\n",
        "!pip install py-hasami"
      ]
    },
    {
      "cell_type": "code",
      "source": [
        "import re\n",
        "import seaborn as sns\n",
        "import numpy as np\n",
        "\n",
        "from scipy import spatial\n",
        "from matplotlib import pyplot as plt\n",
        "\n",
        "import razdel\n",
        "from sentence_transformers import SentenceTransformer"
      ],
      "metadata": {
        "id": "fC0PRmIPhiKh"
      },
      "execution_count": null,
      "outputs": []
    },
    {
      "cell_type": "code",
      "source": [
        "with open('HP_eng_9.txt', 'r', encoding='utf-8') as file:\n",
        "  en_text = file.read()\n",
        "  en = re.sub('\\n', ' ', en_text)\n",
        "  sent_en = list(x.text for x in razdel.sentenize(en))\n",
        "  print(\"English text:\", len(sent_en), \"sentences\")\n",
        "  print(sent_en[0])"
      ],
      "metadata": {
        "colab": {
          "base_uri": "https://localhost:8080/"
        },
        "id": "SSL64NLChlV0",
        "outputId": "087107d7-2cd0-444c-97c9-b4253d0a8f89"
      },
      "execution_count": null,
      "outputs": [
        {
          "output_type": "stream",
          "name": "stdout",
          "text": [
            "English text: 388 sentences\n",
            "Harry had never believed he would meet a boy he hated more than Dudley, but that was before he met Draco Malfoy.\n"
          ]
        }
      ]
    },
    {
      "cell_type": "code",
      "source": [
        "import hasami\n",
        "with open('HP JAP.txt', 'r', encoding='utf-8') as file:\n",
        "  ja_text = file.read()\n",
        "  ja = re.sub('\\n', ' ', ja_text)\n",
        "  sent_ja = hasami.segment_sentences(ja) # получаем список предложений\n",
        "  print(\"Japanese text:\", len(sent_ja), \"sentences\")\n",
        "  print(sent_ja[0])"
      ],
      "metadata": {
        "colab": {
          "base_uri": "https://localhost:8080/"
        },
        "id": "n3C70p3viGC6",
        "outputId": "ce339390-2f4f-46b4-c37e-2a139898d717"
      },
      "execution_count": null,
      "outputs": [
        {
          "output_type": "stream",
          "name": "stdout",
          "text": [
            "Japanese text: 317 sentences\n",
            "ダドリーより嫌なヤツがこの世の中にいるなんて、ハリーは思ってもみなかった。\n"
          ]
        }
      ]
    },
    {
      "cell_type": "code",
      "source": [
        "def get_batch(iter1, iter2, batch_size):\n",
        "    l1 = len(iter1)\n",
        "    l2 = len(iter2)\n",
        "    k = int(round(batch_size * l2/l1))\n",
        "    kdx = 0 - k\n",
        "    for ndx in range(0, l1, batch_size):\n",
        "        kdx += k\n",
        "        yield iter1[ndx:min(ndx + batch_size, l1)], iter2[kdx:min(kdx + k, l2)]"
      ],
      "metadata": {
        "id": "-avg24f8ivyA"
      },
      "execution_count": null,
      "outputs": []
    },
    {
      "cell_type": "code",
      "source": [
        "model_st = SentenceTransformer('distiluse-base-multilingual-cased')"
      ],
      "metadata": {
        "id": "1GAeaODzi1Yb"
      },
      "execution_count": null,
      "outputs": []
    },
    {
      "cell_type": "code",
      "source": [
        "batch_number = 0\n",
        "total_pairs = 0\n",
        "batch_size = 388\n",
        "window = 8\n",
        "threshold = 0.3"
      ],
      "metadata": {
        "id": "msy5y5-ui32Y"
      },
      "execution_count": null,
      "outputs": []
    },
    {
      "cell_type": "code",
      "source": [
        "def get_sim_matrix(vec1, vec2, window=10):\n",
        "    sim_matrix=np.zeros((len(vec1), len(vec2)))\n",
        "    k = len(vec1)/len(vec2)\n",
        "    for i in range(len(vec1)):\n",
        "        for j in range(len(vec2)):\n",
        "            if (j*k > i-window) & (j*k < i+window):\n",
        "              sim = 1 - spatial.distance.cosine(vec1[i], vec2[j])\n",
        "              sim_matrix[i,j] = sim\n",
        "    return sim_matrix"
      ],
      "metadata": {
        "id": "BE5xRCDFi_pd"
      },
      "execution_count": null,
      "outputs": []
    },
    {
      "cell_type": "code",
      "source": [
        "vectors1, vectors2 = [], []\n",
        "\n",
        "for lines_en_batch, lines_ja_batch in get_batch(sent_en, sent_ja, batch_size):\n",
        "    batch_number += 1\n",
        "    vectors1 = [*vectors1, *model_st.encode(lines_en_batch)]\n",
        "    vectors2 = [*vectors2, *model_st.encode(lines_ja_batch)]\n",
        "\n",
        "    break"
      ],
      "metadata": {
        "id": "HYeKGhLkjBkd"
      },
      "execution_count": null,
      "outputs": []
    },
    {
      "cell_type": "code",
      "source": [
        "sim_matrix = get_sim_matrix(vectors1, vectors2, window)"
      ],
      "metadata": {
        "id": "YMGgRJKvjJKT"
      },
      "execution_count": null,
      "outputs": []
    },
    {
      "cell_type": "code",
      "source": [
        "plt.figure(figsize=(8,8))\n",
        "sns.heatmap(sim_matrix, cmap=\"Greens\", vmin=threshold)\n",
        "plt.xlabel(\"english\", fontsize=18)\n",
        "plt.ylabel(\"japanese\", fontsize=18)\n",
        "plt.show()"
      ],
      "metadata": {
        "id": "w2RCVJoVjSSI"
      },
      "execution_count": null,
      "outputs": []
    },
    {
      "cell_type": "code",
      "source": [
        "def get_pairs(en_lines, ja_lines, sim_matrix, threshold):\n",
        "    en = []\n",
        "    ja = []\n",
        "    sims = []\n",
        "    for i in range(sim_matrix.shape[0]):\n",
        "        for j in range(sim_matrix.shape[1]):\n",
        "            if sim_matrix[i,j] >= threshold:\n",
        "                en.append(en_lines[j])\n",
        "                ja.append(ja_lines[i])\n",
        "                sims.append(sim_matrix[i,j])\n",
        "    return en, ja, sims"
      ],
      "metadata": {
        "id": "fCjre_PCjdlw"
      },
      "execution_count": null,
      "outputs": []
    },
    {
      "cell_type": "code",
      "source": [
        "sim_matrix_best = np.zeros_like(sim_matrix)\n",
        "sim_matrix_best[range(len(sim_matrix)), sim_matrix.argmax(1)] = sim_matrix[range(len(sim_matrix)), sim_matrix.argmax(1)]"
      ],
      "metadata": {
        "id": "uCG045ekk--W"
      },
      "execution_count": null,
      "outputs": []
    },
    {
      "cell_type": "code",
      "source": [
        "plt.figure(figsize=(8,8))\n",
        "sns.heatmap(sim_matrix_best, cmap=\"Reds\", vmin=threshold)\n",
        "plt.xlabel(\"english\", fontsize=18)\n",
        "plt.ylabel(\"japanese\", fontsize=18)\n",
        "plt.show()"
      ],
      "metadata": {
        "id": "1M-WHRmlniyl"
      },
      "execution_count": null,
      "outputs": []
    },
    {
      "cell_type": "code",
      "source": [
        "res_ja, res_en, sims = get_pairs(sent_ja, sent_en, sim_matrix_best, threshold)"
      ],
      "metadata": {
        "id": "NqACZNJQj5GI"
      },
      "execution_count": null,
      "outputs": []
    },
    {
      "cell_type": "code",
      "source": [
        "for x, y, s in zip(res_en, res_ja, sims):\n",
        "    print(x)\n",
        "    print(y)\n",
        "    print(\"\")\n",
        "    print(\">> similarity\", s, \"\\n\\n\")"
      ],
      "metadata": {
        "id": "YqzTjPxclIGH"
      },
      "execution_count": null,
      "outputs": []
    },
    {
      "cell_type": "code",
      "source": [
        "print(len(res_en))\n",
        "print(len(res_ja))"
      ],
      "metadata": {
        "colab": {
          "base_uri": "https://localhost:8080/"
        },
        "id": "M0FRy2X9lMOt",
        "outputId": "af487c6a-48dc-4b1b-b00f-a2c69d0a9e14"
      },
      "execution_count": null,
      "outputs": [
        {
          "output_type": "stream",
          "name": "stdout",
          "text": [
            "269\n",
            "269\n"
          ]
        }
      ]
    },
    {
      "cell_type": "code",
      "source": [
        "import pandas as pd\n",
        "data = pd.DataFrame({'ja': res_ja, 'en': res_en, 'sim': sims})\n",
        "data"
      ],
      "metadata": {
        "id": "WwsWaszplmbZ",
        "colab": {
          "base_uri": "https://localhost:8080/",
          "height": 424
        },
        "outputId": "745aab2f-e13b-4e1f-da21-01ac9121404d"
      },
      "execution_count": null,
      "outputs": [
        {
          "output_type": "execute_result",
          "data": {
            "text/plain": [
              "                                                    ja  \\\n",
              "0                ダドリーより嫌なヤツがこの世の中にいるなんて、ハリーは思ってもみなかった。   \n",
              "1    一年生ではグリフィンドールとスリザリンが一緒のクラスになるのは魔法薬学の授業だけだったので、...   \n",
              "2                少なくとも、グリフィンドールの談話室に「お知らせ」が出るまではそうだった。   \n",
              "3                                    ――飛行訓練は木曜日に始まります。   \n",
              "4                ダドリーより嫌なヤツがこの世の中にいるなんて、ハリーは思ってもみなかった。   \n",
              "..                                                 ...   \n",
              "264                                 ベッドに入ってからそれを考えていた。   \n",
              "265                         犬が何かを守っている……ハグリッドが何て言ったっけ？   \n",
              "266                         犬が何かを守っている……ハグリッドが何て言ったっけ？   \n",
              "267  「グリンゴッツは何かを隠すには世界で一番安全な場所だ――たぶんホグワーツ以外では……」 七一...   \n",
              "268  「グリンゴッツは何かを隠すには世界で一番安全な場所だ――たぶんホグワーツ以外では……」 七一...   \n",
              "\n",
              "                                                    en       sim  \n",
              "0    Harry had never believed he would meet a boy h...  0.661952  \n",
              "1    Still, first-year Gryffindors only had Potions...  0.502783  \n",
              "2    Or at least, they didn’t until they spotted a ...  0.512457  \n",
              "3    Flying lessons would be starting on Thursday —...  0.599966  \n",
              "4                        “Typical,” said Harry darkly.  0.396301  \n",
              "..                                                 ...       ...  \n",
              "264  But Hermione had given Harry something else to...  0.417430  \n",
              "265              The dog was guarding something. . . .  0.590029  \n",
              "266                              What had Hagrid said?  0.516516  \n",
              "267  Gringotts was the safest place in the world fo...  0.669144  \n",
              "268  It looked as though Harry had found out where ...  0.610179  \n",
              "\n",
              "[269 rows x 3 columns]"
            ],
            "text/html": [
              "\n",
              "  <div id=\"df-191f03cc-a17b-4cbd-a627-c95757132d54\" class=\"colab-df-container\">\n",
              "    <div>\n",
              "<style scoped>\n",
              "    .dataframe tbody tr th:only-of-type {\n",
              "        vertical-align: middle;\n",
              "    }\n",
              "\n",
              "    .dataframe tbody tr th {\n",
              "        vertical-align: top;\n",
              "    }\n",
              "\n",
              "    .dataframe thead th {\n",
              "        text-align: right;\n",
              "    }\n",
              "</style>\n",
              "<table border=\"1\" class=\"dataframe\">\n",
              "  <thead>\n",
              "    <tr style=\"text-align: right;\">\n",
              "      <th></th>\n",
              "      <th>ja</th>\n",
              "      <th>en</th>\n",
              "      <th>sim</th>\n",
              "    </tr>\n",
              "  </thead>\n",
              "  <tbody>\n",
              "    <tr>\n",
              "      <th>0</th>\n",
              "      <td>ダドリーより嫌なヤツがこの世の中にいるなんて、ハリーは思ってもみなかった。</td>\n",
              "      <td>Harry had never believed he would meet a boy h...</td>\n",
              "      <td>0.661952</td>\n",
              "    </tr>\n",
              "    <tr>\n",
              "      <th>1</th>\n",
              "      <td>一年生ではグリフィンドールとスリザリンが一緒のクラスになるのは魔法薬学の授業だけだったので、...</td>\n",
              "      <td>Still, first-year Gryffindors only had Potions...</td>\n",
              "      <td>0.502783</td>\n",
              "    </tr>\n",
              "    <tr>\n",
              "      <th>2</th>\n",
              "      <td>少なくとも、グリフィンドールの談話室に「お知らせ」が出るまではそうだった。</td>\n",
              "      <td>Or at least, they didn’t until they spotted a ...</td>\n",
              "      <td>0.512457</td>\n",
              "    </tr>\n",
              "    <tr>\n",
              "      <th>3</th>\n",
              "      <td>――飛行訓練は木曜日に始まります。</td>\n",
              "      <td>Flying lessons would be starting on Thursday —...</td>\n",
              "      <td>0.599966</td>\n",
              "    </tr>\n",
              "    <tr>\n",
              "      <th>4</th>\n",
              "      <td>ダドリーより嫌なヤツがこの世の中にいるなんて、ハリーは思ってもみなかった。</td>\n",
              "      <td>“Typical,” said Harry darkly.</td>\n",
              "      <td>0.396301</td>\n",
              "    </tr>\n",
              "    <tr>\n",
              "      <th>...</th>\n",
              "      <td>...</td>\n",
              "      <td>...</td>\n",
              "      <td>...</td>\n",
              "    </tr>\n",
              "    <tr>\n",
              "      <th>264</th>\n",
              "      <td>ベッドに入ってからそれを考えていた。</td>\n",
              "      <td>But Hermione had given Harry something else to...</td>\n",
              "      <td>0.417430</td>\n",
              "    </tr>\n",
              "    <tr>\n",
              "      <th>265</th>\n",
              "      <td>犬が何かを守っている……ハグリッドが何て言ったっけ？</td>\n",
              "      <td>The dog was guarding something. . . .</td>\n",
              "      <td>0.590029</td>\n",
              "    </tr>\n",
              "    <tr>\n",
              "      <th>266</th>\n",
              "      <td>犬が何かを守っている……ハグリッドが何て言ったっけ？</td>\n",
              "      <td>What had Hagrid said?</td>\n",
              "      <td>0.516516</td>\n",
              "    </tr>\n",
              "    <tr>\n",
              "      <th>267</th>\n",
              "      <td>「グリンゴッツは何かを隠すには世界で一番安全な場所だ――たぶんホグワーツ以外では……」 七一...</td>\n",
              "      <td>Gringotts was the safest place in the world fo...</td>\n",
              "      <td>0.669144</td>\n",
              "    </tr>\n",
              "    <tr>\n",
              "      <th>268</th>\n",
              "      <td>「グリンゴッツは何かを隠すには世界で一番安全な場所だ――たぶんホグワーツ以外では……」 七一...</td>\n",
              "      <td>It looked as though Harry had found out where ...</td>\n",
              "      <td>0.610179</td>\n",
              "    </tr>\n",
              "  </tbody>\n",
              "</table>\n",
              "<p>269 rows × 3 columns</p>\n",
              "</div>\n",
              "    <div class=\"colab-df-buttons\">\n",
              "\n",
              "  <div class=\"colab-df-container\">\n",
              "    <button class=\"colab-df-convert\" onclick=\"convertToInteractive('df-191f03cc-a17b-4cbd-a627-c95757132d54')\"\n",
              "            title=\"Convert this dataframe to an interactive table.\"\n",
              "            style=\"display:none;\">\n",
              "\n",
              "  <svg xmlns=\"http://www.w3.org/2000/svg\" height=\"24px\" viewBox=\"0 -960 960 960\">\n",
              "    <path d=\"M120-120v-720h720v720H120Zm60-500h600v-160H180v160Zm220 220h160v-160H400v160Zm0 220h160v-160H400v160ZM180-400h160v-160H180v160Zm440 0h160v-160H620v160ZM180-180h160v-160H180v160Zm440 0h160v-160H620v160Z\"/>\n",
              "  </svg>\n",
              "    </button>\n",
              "\n",
              "  <style>\n",
              "    .colab-df-container {\n",
              "      display:flex;\n",
              "      gap: 12px;\n",
              "    }\n",
              "\n",
              "    .colab-df-convert {\n",
              "      background-color: #E8F0FE;\n",
              "      border: none;\n",
              "      border-radius: 50%;\n",
              "      cursor: pointer;\n",
              "      display: none;\n",
              "      fill: #1967D2;\n",
              "      height: 32px;\n",
              "      padding: 0 0 0 0;\n",
              "      width: 32px;\n",
              "    }\n",
              "\n",
              "    .colab-df-convert:hover {\n",
              "      background-color: #E2EBFA;\n",
              "      box-shadow: 0px 1px 2px rgba(60, 64, 67, 0.3), 0px 1px 3px 1px rgba(60, 64, 67, 0.15);\n",
              "      fill: #174EA6;\n",
              "    }\n",
              "\n",
              "    .colab-df-buttons div {\n",
              "      margin-bottom: 4px;\n",
              "    }\n",
              "\n",
              "    [theme=dark] .colab-df-convert {\n",
              "      background-color: #3B4455;\n",
              "      fill: #D2E3FC;\n",
              "    }\n",
              "\n",
              "    [theme=dark] .colab-df-convert:hover {\n",
              "      background-color: #434B5C;\n",
              "      box-shadow: 0px 1px 3px 1px rgba(0, 0, 0, 0.15);\n",
              "      filter: drop-shadow(0px 1px 2px rgba(0, 0, 0, 0.3));\n",
              "      fill: #FFFFFF;\n",
              "    }\n",
              "  </style>\n",
              "\n",
              "    <script>\n",
              "      const buttonEl =\n",
              "        document.querySelector('#df-191f03cc-a17b-4cbd-a627-c95757132d54 button.colab-df-convert');\n",
              "      buttonEl.style.display =\n",
              "        google.colab.kernel.accessAllowed ? 'block' : 'none';\n",
              "\n",
              "      async function convertToInteractive(key) {\n",
              "        const element = document.querySelector('#df-191f03cc-a17b-4cbd-a627-c95757132d54');\n",
              "        const dataTable =\n",
              "          await google.colab.kernel.invokeFunction('convertToInteractive',\n",
              "                                                    [key], {});\n",
              "        if (!dataTable) return;\n",
              "\n",
              "        const docLinkHtml = 'Like what you see? Visit the ' +\n",
              "          '<a target=\"_blank\" href=https://colab.research.google.com/notebooks/data_table.ipynb>data table notebook</a>'\n",
              "          + ' to learn more about interactive tables.';\n",
              "        element.innerHTML = '';\n",
              "        dataTable['output_type'] = 'display_data';\n",
              "        await google.colab.output.renderOutput(dataTable, element);\n",
              "        const docLink = document.createElement('div');\n",
              "        docLink.innerHTML = docLinkHtml;\n",
              "        element.appendChild(docLink);\n",
              "      }\n",
              "    </script>\n",
              "  </div>\n",
              "\n",
              "\n",
              "<div id=\"df-b8ae63f6-52b4-4f1d-8398-c3fb33511933\">\n",
              "  <button class=\"colab-df-quickchart\" onclick=\"quickchart('df-b8ae63f6-52b4-4f1d-8398-c3fb33511933')\"\n",
              "            title=\"Suggest charts\"\n",
              "            style=\"display:none;\">\n",
              "\n",
              "<svg xmlns=\"http://www.w3.org/2000/svg\" height=\"24px\"viewBox=\"0 0 24 24\"\n",
              "     width=\"24px\">\n",
              "    <g>\n",
              "        <path d=\"M19 3H5c-1.1 0-2 .9-2 2v14c0 1.1.9 2 2 2h14c1.1 0 2-.9 2-2V5c0-1.1-.9-2-2-2zM9 17H7v-7h2v7zm4 0h-2V7h2v10zm4 0h-2v-4h2v4z\"/>\n",
              "    </g>\n",
              "</svg>\n",
              "  </button>\n",
              "\n",
              "<style>\n",
              "  .colab-df-quickchart {\n",
              "      --bg-color: #E8F0FE;\n",
              "      --fill-color: #1967D2;\n",
              "      --hover-bg-color: #E2EBFA;\n",
              "      --hover-fill-color: #174EA6;\n",
              "      --disabled-fill-color: #AAA;\n",
              "      --disabled-bg-color: #DDD;\n",
              "  }\n",
              "\n",
              "  [theme=dark] .colab-df-quickchart {\n",
              "      --bg-color: #3B4455;\n",
              "      --fill-color: #D2E3FC;\n",
              "      --hover-bg-color: #434B5C;\n",
              "      --hover-fill-color: #FFFFFF;\n",
              "      --disabled-bg-color: #3B4455;\n",
              "      --disabled-fill-color: #666;\n",
              "  }\n",
              "\n",
              "  .colab-df-quickchart {\n",
              "    background-color: var(--bg-color);\n",
              "    border: none;\n",
              "    border-radius: 50%;\n",
              "    cursor: pointer;\n",
              "    display: none;\n",
              "    fill: var(--fill-color);\n",
              "    height: 32px;\n",
              "    padding: 0;\n",
              "    width: 32px;\n",
              "  }\n",
              "\n",
              "  .colab-df-quickchart:hover {\n",
              "    background-color: var(--hover-bg-color);\n",
              "    box-shadow: 0 1px 2px rgba(60, 64, 67, 0.3), 0 1px 3px 1px rgba(60, 64, 67, 0.15);\n",
              "    fill: var(--button-hover-fill-color);\n",
              "  }\n",
              "\n",
              "  .colab-df-quickchart-complete:disabled,\n",
              "  .colab-df-quickchart-complete:disabled:hover {\n",
              "    background-color: var(--disabled-bg-color);\n",
              "    fill: var(--disabled-fill-color);\n",
              "    box-shadow: none;\n",
              "  }\n",
              "\n",
              "  .colab-df-spinner {\n",
              "    border: 2px solid var(--fill-color);\n",
              "    border-color: transparent;\n",
              "    border-bottom-color: var(--fill-color);\n",
              "    animation:\n",
              "      spin 1s steps(1) infinite;\n",
              "  }\n",
              "\n",
              "  @keyframes spin {\n",
              "    0% {\n",
              "      border-color: transparent;\n",
              "      border-bottom-color: var(--fill-color);\n",
              "      border-left-color: var(--fill-color);\n",
              "    }\n",
              "    20% {\n",
              "      border-color: transparent;\n",
              "      border-left-color: var(--fill-color);\n",
              "      border-top-color: var(--fill-color);\n",
              "    }\n",
              "    30% {\n",
              "      border-color: transparent;\n",
              "      border-left-color: var(--fill-color);\n",
              "      border-top-color: var(--fill-color);\n",
              "      border-right-color: var(--fill-color);\n",
              "    }\n",
              "    40% {\n",
              "      border-color: transparent;\n",
              "      border-right-color: var(--fill-color);\n",
              "      border-top-color: var(--fill-color);\n",
              "    }\n",
              "    60% {\n",
              "      border-color: transparent;\n",
              "      border-right-color: var(--fill-color);\n",
              "    }\n",
              "    80% {\n",
              "      border-color: transparent;\n",
              "      border-right-color: var(--fill-color);\n",
              "      border-bottom-color: var(--fill-color);\n",
              "    }\n",
              "    90% {\n",
              "      border-color: transparent;\n",
              "      border-bottom-color: var(--fill-color);\n",
              "    }\n",
              "  }\n",
              "</style>\n",
              "\n",
              "  <script>\n",
              "    async function quickchart(key) {\n",
              "      const quickchartButtonEl =\n",
              "        document.querySelector('#' + key + ' button');\n",
              "      quickchartButtonEl.disabled = true;  // To prevent multiple clicks.\n",
              "      quickchartButtonEl.classList.add('colab-df-spinner');\n",
              "      try {\n",
              "        const charts = await google.colab.kernel.invokeFunction(\n",
              "            'suggestCharts', [key], {});\n",
              "      } catch (error) {\n",
              "        console.error('Error during call to suggestCharts:', error);\n",
              "      }\n",
              "      quickchartButtonEl.classList.remove('colab-df-spinner');\n",
              "      quickchartButtonEl.classList.add('colab-df-quickchart-complete');\n",
              "    }\n",
              "    (() => {\n",
              "      let quickchartButtonEl =\n",
              "        document.querySelector('#df-b8ae63f6-52b4-4f1d-8398-c3fb33511933 button');\n",
              "      quickchartButtonEl.style.display =\n",
              "        google.colab.kernel.accessAllowed ? 'block' : 'none';\n",
              "    })();\n",
              "  </script>\n",
              "</div>\n",
              "    </div>\n",
              "  </div>\n"
            ]
          },
          "metadata": {},
          "execution_count": 81
        }
      ]
    },
    {
      "cell_type": "code",
      "source": [
        "data.to_excel('ENG_JAP_corpora.xlsx')"
      ],
      "metadata": {
        "id": "do2KLNrLRgKA"
      },
      "execution_count": null,
      "outputs": []
    }
  ]
}