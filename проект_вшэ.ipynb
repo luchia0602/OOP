{
  "cells": [
    {
      "cell_type": "markdown",
      "metadata": {
        "id": "view-in-github",
        "colab_type": "text"
      },
      "source": [
        "<a href=\"https://colab.research.google.com/github/luchia0602/OOP/blob/main/%D0%BF%D1%80%D0%BE%D0%B5%D0%BA%D1%82_%D0%B2%D1%88%D1%8D.ipynb\" target=\"_parent\"><img src=\"https://colab.research.google.com/assets/colab-badge.svg\" alt=\"Open In Colab\"/></a>"
      ]
    },
    {
      "cell_type": "markdown",
      "source": [
        "Импорты"
      ],
      "metadata": {
        "id": "UnUw-yuuTB3R"
      }
    },
    {
      "cell_type": "code",
      "execution_count": 1,
      "metadata": {
        "colab": {
          "base_uri": "https://localhost:8080/"
        },
        "id": "LGFHOL-DBlp9",
        "outputId": "1576f6bb-4559-4206-c872-9a28315ef186"
      },
      "outputs": [
        {
          "output_type": "stream",
          "name": "stdout",
          "text": [
            "Requirement already satisfied: torch in /usr/local/lib/python3.10/dist-packages (2.5.1+cu121)\n",
            "Requirement already satisfied: torchvision in /usr/local/lib/python3.10/dist-packages (0.20.1+cu121)\n",
            "Requirement already satisfied: torchaudio in /usr/local/lib/python3.10/dist-packages (2.5.1+cu121)\n",
            "Requirement already satisfied: filelock in /usr/local/lib/python3.10/dist-packages (from torch) (3.16.1)\n",
            "Requirement already satisfied: typing-extensions>=4.8.0 in /usr/local/lib/python3.10/dist-packages (from torch) (4.12.2)\n",
            "Requirement already satisfied: networkx in /usr/local/lib/python3.10/dist-packages (from torch) (3.4.2)\n",
            "Requirement already satisfied: jinja2 in /usr/local/lib/python3.10/dist-packages (from torch) (3.1.4)\n",
            "Requirement already satisfied: fsspec in /usr/local/lib/python3.10/dist-packages (from torch) (2024.10.0)\n",
            "Requirement already satisfied: sympy==1.13.1 in /usr/local/lib/python3.10/dist-packages (from torch) (1.13.1)\n",
            "Requirement already satisfied: mpmath<1.4,>=1.1.0 in /usr/local/lib/python3.10/dist-packages (from sympy==1.13.1->torch) (1.3.0)\n",
            "Requirement already satisfied: numpy in /usr/local/lib/python3.10/dist-packages (from torchvision) (1.26.4)\n",
            "Requirement already satisfied: pillow!=8.3.*,>=5.3.0 in /usr/local/lib/python3.10/dist-packages (from torchvision) (11.0.0)\n",
            "Requirement already satisfied: MarkupSafe>=2.0 in /usr/local/lib/python3.10/dist-packages (from jinja2->torch) (3.0.2)\n",
            "Requirement already satisfied: sentence_transformers in /usr/local/lib/python3.10/dist-packages (3.3.1)\n",
            "Requirement already satisfied: transformers in /usr/local/lib/python3.10/dist-packages (4.47.0)\n",
            "Requirement already satisfied: accelerate in /usr/local/lib/python3.10/dist-packages (1.2.0)\n",
            "Requirement already satisfied: tqdm in /usr/local/lib/python3.10/dist-packages (from sentence_transformers) (4.66.6)\n",
            "Requirement already satisfied: torch>=1.11.0 in /usr/local/lib/python3.10/dist-packages (from sentence_transformers) (2.5.1+cu121)\n",
            "Requirement already satisfied: scikit-learn in /usr/local/lib/python3.10/dist-packages (from sentence_transformers) (1.5.2)\n",
            "Requirement already satisfied: scipy in /usr/local/lib/python3.10/dist-packages (from sentence_transformers) (1.13.1)\n",
            "Requirement already satisfied: huggingface-hub>=0.20.0 in /usr/local/lib/python3.10/dist-packages (from sentence_transformers) (0.26.3)\n",
            "Requirement already satisfied: Pillow in /usr/local/lib/python3.10/dist-packages (from sentence_transformers) (11.0.0)\n",
            "Requirement already satisfied: filelock in /usr/local/lib/python3.10/dist-packages (from transformers) (3.16.1)\n",
            "Requirement already satisfied: numpy>=1.17 in /usr/local/lib/python3.10/dist-packages (from transformers) (1.26.4)\n",
            "Requirement already satisfied: packaging>=20.0 in /usr/local/lib/python3.10/dist-packages (from transformers) (24.2)\n",
            "Requirement already satisfied: pyyaml>=5.1 in /usr/local/lib/python3.10/dist-packages (from transformers) (6.0.2)\n",
            "Requirement already satisfied: regex!=2019.12.17 in /usr/local/lib/python3.10/dist-packages (from transformers) (2024.9.11)\n",
            "Requirement already satisfied: requests in /usr/local/lib/python3.10/dist-packages (from transformers) (2.32.3)\n",
            "Requirement already satisfied: tokenizers<0.22,>=0.21 in /usr/local/lib/python3.10/dist-packages (from transformers) (0.21.0)\n",
            "Requirement already satisfied: safetensors>=0.4.1 in /usr/local/lib/python3.10/dist-packages (from transformers) (0.4.5)\n",
            "Requirement already satisfied: psutil in /usr/local/lib/python3.10/dist-packages (from accelerate) (5.9.5)\n",
            "Requirement already satisfied: fsspec>=2023.5.0 in /usr/local/lib/python3.10/dist-packages (from huggingface-hub>=0.20.0->sentence_transformers) (2024.10.0)\n",
            "Requirement already satisfied: typing-extensions>=3.7.4.3 in /usr/local/lib/python3.10/dist-packages (from huggingface-hub>=0.20.0->sentence_transformers) (4.12.2)\n",
            "Requirement already satisfied: networkx in /usr/local/lib/python3.10/dist-packages (from torch>=1.11.0->sentence_transformers) (3.4.2)\n",
            "Requirement already satisfied: jinja2 in /usr/local/lib/python3.10/dist-packages (from torch>=1.11.0->sentence_transformers) (3.1.4)\n",
            "Requirement already satisfied: sympy==1.13.1 in /usr/local/lib/python3.10/dist-packages (from torch>=1.11.0->sentence_transformers) (1.13.1)\n",
            "Requirement already satisfied: mpmath<1.4,>=1.1.0 in /usr/local/lib/python3.10/dist-packages (from sympy==1.13.1->torch>=1.11.0->sentence_transformers) (1.3.0)\n",
            "Requirement already satisfied: charset-normalizer<4,>=2 in /usr/local/lib/python3.10/dist-packages (from requests->transformers) (3.4.0)\n",
            "Requirement already satisfied: idna<4,>=2.5 in /usr/local/lib/python3.10/dist-packages (from requests->transformers) (2.10)\n",
            "Requirement already satisfied: urllib3<3,>=1.21.1 in /usr/local/lib/python3.10/dist-packages (from requests->transformers) (2.2.3)\n",
            "Requirement already satisfied: certifi>=2017.4.17 in /usr/local/lib/python3.10/dist-packages (from requests->transformers) (2024.8.30)\n",
            "Requirement already satisfied: joblib>=1.2.0 in /usr/local/lib/python3.10/dist-packages (from scikit-learn->sentence_transformers) (1.4.2)\n",
            "Requirement already satisfied: threadpoolctl>=3.1.0 in /usr/local/lib/python3.10/dist-packages (from scikit-learn->sentence_transformers) (3.5.0)\n",
            "Requirement already satisfied: MarkupSafe>=2.0 in /usr/local/lib/python3.10/dist-packages (from jinja2->torch>=1.11.0->sentence_transformers) (3.0.2)\n"
          ]
        },
        {
          "output_type": "stream",
          "name": "stderr",
          "text": [
            "/usr/local/lib/python3.10/dist-packages/huggingface_hub/utils/_auth.py:94: UserWarning: \n",
            "The secret `HF_TOKEN` does not exist in your Colab secrets.\n",
            "To authenticate with the Hugging Face Hub, create a token in your settings tab (https://huggingface.co/settings/tokens), set it as secret in your Google Colab and restart your session.\n",
            "You will be able to reuse this secret in all of your notebooks.\n",
            "Please note that authentication is recommended but still optional to access public models or datasets.\n",
            "  warnings.warn(\n"
          ]
        }
      ],
      "source": [
        "!python -m pip install torch torchvision torchaudio\n",
        "!python -m pip install sentence_transformers transformers accelerate -U\n",
        "from sklearn.metrics.pairwise import cosine_distances, cosine_similarity\n",
        "from sentence_transformers import SentenceTransformer\n",
        "from sentence_transformers import util\n",
        "model_s = SentenceTransformer('sentence-transformers/all-mpnet-base-v2')\n",
        "embed = model_s.encode"
      ]
    },
    {
      "cell_type": "code",
      "execution_count": 2,
      "metadata": {
        "id": "60TM61NFHCHx"
      },
      "outputs": [],
      "source": [
        "import statistics\n",
        "import numpy as np\n",
        "from sklearn.metrics.pairwise import cosine_distances"
      ]
    },
    {
      "cell_type": "code",
      "execution_count": 3,
      "metadata": {
        "colab": {
          "base_uri": "https://localhost:8080/"
        },
        "id": "ArTKUHx8HqhE",
        "outputId": "51584cd9-bf0e-4ec9-8048-605bba21c1ec"
      },
      "outputs": [
        {
          "output_type": "stream",
          "name": "stdout",
          "text": [
            "Requirement already satisfied: translators in /usr/local/lib/python3.10/dist-packages (5.9.3)\n",
            "Requirement already satisfied: requests>=2.29.0 in /usr/local/lib/python3.10/dist-packages (from translators) (2.32.3)\n",
            "Requirement already satisfied: PyExecJS>=1.5.1 in /usr/local/lib/python3.10/dist-packages (from translators) (1.5.1)\n",
            "Requirement already satisfied: lxml>=4.9.1 in /usr/local/lib/python3.10/dist-packages (from translators) (5.3.0)\n",
            "Requirement already satisfied: tqdm>=4.65.0 in /usr/local/lib/python3.10/dist-packages (from translators) (4.66.6)\n",
            "Requirement already satisfied: pathos>=0.2.9 in /usr/local/lib/python3.10/dist-packages (from translators) (0.3.3)\n",
            "Requirement already satisfied: cryptography>=42.0.4 in /usr/local/lib/python3.10/dist-packages (from translators) (43.0.3)\n",
            "Requirement already satisfied: cffi>=1.12 in /usr/local/lib/python3.10/dist-packages (from cryptography>=42.0.4->translators) (1.17.1)\n",
            "Requirement already satisfied: ppft>=1.7.6.9 in /usr/local/lib/python3.10/dist-packages (from pathos>=0.2.9->translators) (1.7.6.9)\n",
            "Requirement already satisfied: dill>=0.3.9 in /usr/local/lib/python3.10/dist-packages (from pathos>=0.2.9->translators) (0.3.9)\n",
            "Requirement already satisfied: pox>=0.3.5 in /usr/local/lib/python3.10/dist-packages (from pathos>=0.2.9->translators) (0.3.5)\n",
            "Requirement already satisfied: multiprocess>=0.70.17 in /usr/local/lib/python3.10/dist-packages (from pathos>=0.2.9->translators) (0.70.17)\n",
            "Requirement already satisfied: six>=1.10.0 in /usr/local/lib/python3.10/dist-packages (from PyExecJS>=1.5.1->translators) (1.16.0)\n",
            "Requirement already satisfied: charset-normalizer<4,>=2 in /usr/local/lib/python3.10/dist-packages (from requests>=2.29.0->translators) (3.4.0)\n",
            "Requirement already satisfied: idna<4,>=2.5 in /usr/local/lib/python3.10/dist-packages (from requests>=2.29.0->translators) (2.10)\n",
            "Requirement already satisfied: urllib3<3,>=1.21.1 in /usr/local/lib/python3.10/dist-packages (from requests>=2.29.0->translators) (2.2.3)\n",
            "Requirement already satisfied: certifi>=2017.4.17 in /usr/local/lib/python3.10/dist-packages (from requests>=2.29.0->translators) (2024.8.30)\n",
            "Requirement already satisfied: pycparser in /usr/local/lib/python3.10/dist-packages (from cffi>=1.12->cryptography>=42.0.4->translators) (2.22)\n"
          ]
        }
      ],
      "source": [
        "# библиотека с переводчиком bing\n",
        "!pip install --upgrade translators\n",
        "import translators as ts"
      ]
    },
    {
      "cell_type": "markdown",
      "source": [
        "![изображение.png](data:image/png;base64,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)"
      ],
      "metadata": {
        "id": "ePx2NumeWt2D"
      }
    },
    {
      "cell_type": "code",
      "execution_count": 4,
      "metadata": {
        "id": "Iebj-rJjahp8"
      },
      "outputs": [],
      "source": [
        "# модель с huggingface\n",
        "from transformers import AutoTokenizer, M2M100ForConditionalGeneration\n",
        "model = M2M100ForConditionalGeneration.from_pretrained(\"facebook/m2m100_418M\")\n",
        "tokenizer = AutoTokenizer.from_pretrained(\"facebook/m2m100_418M\")"
      ]
    },
    {
      "cell_type": "code",
      "execution_count": 5,
      "metadata": {
        "id": "o0eW0jP8AX1C"
      },
      "outputs": [],
      "source": [
        "# код для данных на 300 примеров\n",
        "import torch"
      ]
    },
    {
      "cell_type": "code",
      "execution_count": 6,
      "metadata": {
        "id": "r2UrJRKU-nEX"
      },
      "outputs": [],
      "source": [
        "model.to(\"cuda\");"
      ]
    },
    {
      "cell_type": "code",
      "execution_count": 7,
      "metadata": {
        "id": "NBuLoChfBdhw"
      },
      "outputs": [],
      "source": [
        "device = torch.device('cuda') if torch.cuda.is_available() else torch.device('cpu')"
      ]
    },
    {
      "cell_type": "code",
      "execution_count": 8,
      "metadata": {
        "id": "Hp-S-Y5__HIM",
        "colab": {
          "base_uri": "https://localhost:8080/"
        },
        "outputId": "58de7a26-8ca1-4b63-b7f0-ecddf92643a6"
      },
      "outputs": [
        {
          "output_type": "execute_result",
          "data": {
            "text/plain": [
              "device(type='cuda', index=0)"
            ]
          },
          "metadata": {},
          "execution_count": 8
        }
      ],
      "source": [
        "model.device"
      ]
    },
    {
      "cell_type": "code",
      "execution_count": 9,
      "metadata": {
        "id": "uHmFAig_l-LQ"
      },
      "outputs": [],
      "source": [
        "import statistics"
      ]
    },
    {
      "cell_type": "code",
      "execution_count": 10,
      "metadata": {
        "colab": {
          "base_uri": "https://localhost:8080/"
        },
        "id": "-iBEewHvBYwP",
        "outputId": "a93b4416-0460-43f9-d696-de5e5922f6cd"
      },
      "outputs": [
        {
          "output_type": "stream",
          "name": "stdout",
          "text": [
            "Requirement already satisfied: pandas in /usr/local/lib/python3.10/dist-packages (2.2.2)\n",
            "Requirement already satisfied: numpy>=1.22.4 in /usr/local/lib/python3.10/dist-packages (from pandas) (1.26.4)\n",
            "Requirement already satisfied: python-dateutil>=2.8.2 in /usr/local/lib/python3.10/dist-packages (from pandas) (2.8.2)\n",
            "Requirement already satisfied: pytz>=2020.1 in /usr/local/lib/python3.10/dist-packages (from pandas) (2024.2)\n",
            "Requirement already satisfied: tzdata>=2022.7 in /usr/local/lib/python3.10/dist-packages (from pandas) (2024.2)\n",
            "Requirement already satisfied: six>=1.5 in /usr/local/lib/python3.10/dist-packages (from python-dateutil>=2.8.2->pandas) (1.16.0)\n"
          ]
        }
      ],
      "source": [
        "!pip install pandas\n",
        "import pandas as pd"
      ]
    },
    {
      "cell_type": "code",
      "execution_count": 11,
      "metadata": {
        "colab": {
          "base_uri": "https://localhost:8080/"
        },
        "id": "r-YqokTHXjO5",
        "outputId": "22030720-57f7-4955-b4b3-1005362b8802"
      },
      "outputs": [
        {
          "output_type": "stream",
          "name": "stdout",
          "text": [
            "Requirement already satisfied: googletrans==3.1.0a0 in /usr/local/lib/python3.10/dist-packages (3.1.0a0)\n",
            "Requirement already satisfied: httpx==0.13.3 in /usr/local/lib/python3.10/dist-packages (from googletrans==3.1.0a0) (0.13.3)\n",
            "Requirement already satisfied: certifi in /usr/local/lib/python3.10/dist-packages (from httpx==0.13.3->googletrans==3.1.0a0) (2024.8.30)\n",
            "Requirement already satisfied: hstspreload in /usr/local/lib/python3.10/dist-packages (from httpx==0.13.3->googletrans==3.1.0a0) (2024.12.1)\n",
            "Requirement already satisfied: sniffio in /usr/local/lib/python3.10/dist-packages (from httpx==0.13.3->googletrans==3.1.0a0) (1.3.1)\n",
            "Requirement already satisfied: chardet==3.* in /usr/local/lib/python3.10/dist-packages (from httpx==0.13.3->googletrans==3.1.0a0) (3.0.4)\n",
            "Requirement already satisfied: idna==2.* in /usr/local/lib/python3.10/dist-packages (from httpx==0.13.3->googletrans==3.1.0a0) (2.10)\n",
            "Requirement already satisfied: rfc3986<2,>=1.3 in /usr/local/lib/python3.10/dist-packages (from httpx==0.13.3->googletrans==3.1.0a0) (1.5.0)\n",
            "Requirement already satisfied: httpcore==0.9.* in /usr/local/lib/python3.10/dist-packages (from httpx==0.13.3->googletrans==3.1.0a0) (0.9.1)\n",
            "Requirement already satisfied: h11<0.10,>=0.8 in /usr/local/lib/python3.10/dist-packages (from httpcore==0.9.*->httpx==0.13.3->googletrans==3.1.0a0) (0.9.0)\n",
            "Requirement already satisfied: h2==3.* in /usr/local/lib/python3.10/dist-packages (from httpcore==0.9.*->httpx==0.13.3->googletrans==3.1.0a0) (3.2.0)\n",
            "Requirement already satisfied: hyperframe<6,>=5.2.0 in /usr/local/lib/python3.10/dist-packages (from h2==3.*->httpcore==0.9.*->httpx==0.13.3->googletrans==3.1.0a0) (5.2.0)\n",
            "Requirement already satisfied: hpack<4,>=3.0 in /usr/local/lib/python3.10/dist-packages (from h2==3.*->httpcore==0.9.*->httpx==0.13.3->googletrans==3.1.0a0) (3.0.0)\n"
          ]
        }
      ],
      "source": [
        "# библиотека для google translate\n",
        "!pip install googletrans==3.1.0a0\n",
        "import googletrans\n",
        "from googletrans import Translator"
      ]
    },
    {
      "cell_type": "code",
      "execution_count": 12,
      "metadata": {
        "id": "64d-BK31nC9b"
      },
      "outputs": [],
      "source": [
        "import numpy as np"
      ]
    },
    {
      "cell_type": "code",
      "execution_count": 39,
      "metadata": {
        "colab": {
          "base_uri": "https://localhost:8080/"
        },
        "id": "vU0leBQca5Qr",
        "outputId": "81681831-c23b-46eb-f6ee-0b36de3b7ae3"
      },
      "outputs": [
        {
          "output_type": "execute_result",
          "data": {
            "text/plain": [
              "{'input_ids': tensor([[128036,  21457,    117,  14906,      8,  37089,    432, 110309,  10550,\n",
              "              2]]), 'attention_mask': tensor([[1, 1, 1, 1, 1, 1, 1, 1, 1, 1]])}"
            ]
          },
          "metadata": {},
          "execution_count": 39
        }
      ],
      "source": [
        "text_to_translate = \"Life is like a box of chocolates\"\n",
        "model_inputs = tokenizer(text_to_translate, return_tensors=\"pt\")\n",
        "model_inputs"
      ]
    },
    {
      "cell_type": "code",
      "execution_count": 40,
      "metadata": {
        "colab": {
          "base_uri": "https://localhost:8080/"
        },
        "id": "EPyrQT2pBWJL",
        "outputId": "cb4aba82-5020-47d9-d6a2-ee5041d24e7e"
      },
      "outputs": [
        {
          "output_type": "execute_result",
          "data": {
            "text/plain": [
              "['La vie est comme une boîte de chocolat.']"
            ]
          },
          "metadata": {},
          "execution_count": 40
        }
      ],
      "source": [
        "# тест с huggingface\n",
        "from transformers import M2M100ForConditionalGeneration, M2M100Tokenizer\n",
        "hi_text = \"जीवन एक चॉकलेट बॉक्स की तरह है।\"\n",
        "tokenizer.src_lang = \"hi\"\n",
        "encoded_hi = tokenizer(hi_text, return_tensors=\"pt\")\n",
        "generated_tokens = model.generate(**{k: v.to(model.device) for k, v in encoded_hi.items()}, forced_bos_token_id=tokenizer.get_lang_id(\"fr\"))\n",
        "tokenizer.batch_decode(generated_tokens, skip_special_tokens=True)"
      ]
    },
    {
      "cell_type": "code",
      "execution_count": 16,
      "metadata": {
        "colab": {
          "base_uri": "https://localhost:8080/"
        },
        "id": "s6BmcYReYHoS",
        "outputId": "24945e7a-988a-42f1-acc1-5d1ff063e133"
      },
      "outputs": [
        {
          "output_type": "stream",
          "name": "stdout",
          "text": [
            "Translated(src=ja, dest=en, text=good morning. It's sunny today., pronunciation=[[]], extra_data=\"{'translat...\")\n",
            "good morning. It's sunny today.\n"
          ]
        }
      ],
      "source": [
        "# тест google translate\n",
        "text = 'おはようございます。今日は晴れです。'\n",
        "translator = Translator()\n",
        "translated = translator.translate(text)\n",
        "print(translated)\n",
        "print(translated.text)"
      ]
    },
    {
      "cell_type": "code",
      "execution_count": 17,
      "metadata": {
        "id": "XRwcHoqx9J0Y",
        "colab": {
          "base_uri": "https://localhost:8080/"
        },
        "outputId": "d859e400-b7ce-41ae-8f05-d3715de7a298"
      },
      "outputs": [
        {
          "output_type": "stream",
          "name": "stdout",
          "text": [
            "bing: 猫の尻尾がぴくぴくと動き、目が細くなった。\n"
          ]
        }
      ],
      "source": [
        "# тест библиотеки translators\n",
        "q_text = 'The cat’s tail twitched and its eyes narrowed.'\n",
        "correct = '猫はしっぽをピクッとさせて、目を細めた。'\n",
        "bing_trans = ts.translate_text(query_text=q_text, translator='bing', from_language='en', to_language='ja')\n",
        "print(f'bing: {bing_trans}')"
      ]
    },
    {
      "cell_type": "code",
      "execution_count": 18,
      "metadata": {
        "colab": {
          "base_uri": "https://localhost:8080/"
        },
        "id": "jBGEiHixo9_f",
        "outputId": "774281f9-e210-4ec3-f2af-dd93aa7731de"
      },
      "outputs": [
        {
          "output_type": "stream",
          "name": "stdout",
          "text": [
            "здравствуйте\n"
          ]
        }
      ],
      "source": [
        "yandex_trans = ts.translate_text(query_text='hello', translator='yandex', from_language='en', to_language='ru')\n",
        "print(yandex_trans)"
      ]
    },
    {
      "cell_type": "code",
      "execution_count": 19,
      "metadata": {
        "id": "pB25bDtMBsjp"
      },
      "outputs": [],
      "source": [
        "# тест эмбеддинга\n",
        "bing_trans_emb = embed(bing_trans)\n",
        "correct_emb = embed(correct)"
      ]
    },
    {
      "cell_type": "code",
      "execution_count": 20,
      "metadata": {
        "colab": {
          "base_uri": "https://localhost:8080/"
        },
        "id": "5tf32vJ5COEW",
        "outputId": "6315762e-ff5a-4f35-b6a1-2b7344408e7e"
      },
      "outputs": [
        {
          "output_type": "execute_result",
          "data": {
            "text/plain": [
              "array([[0.23214483]], dtype=float32)"
            ]
          },
          "metadata": {},
          "execution_count": 20
        }
      ],
      "source": [
        "cosine_distances(correct_emb.reshape(1, -1), bing_trans_emb.reshape(1, -1))"
      ]
    },
    {
      "cell_type": "code",
      "execution_count": 21,
      "metadata": {
        "id": "BzKYNQKv7Po0"
      },
      "outputs": [],
      "source": [
        "# старый класс без наследования, работает для google\n",
        "class Best_translator:\n",
        " def __init__(self, text, correct_translation, translator_name, src, dest):\n",
        "  self.text = text\n",
        "  self.correct_translation = correct_translation\n",
        "  self.translator_name = translator_name\n",
        "  self.src = src\n",
        "  self.dest = dest\n",
        "\n",
        " def translate(self):\n",
        "  if 'translator_name' == 'google':\n",
        "    if len(self.text) > 1:\n",
        "      return translate(self.text, self.dest)\n",
        "  else:\n",
        "    return ts.translate_text(query_text=self.text, translator=self.translator_name, from_language=self.src, to_language=self.dest)\n",
        "\n",
        "\n",
        " def evaluate(self):\n",
        "  translation = self.translate()\n",
        "  correct_emb = embed(self.correct_translation)\n",
        "  translation_emb = embed(translation)\n",
        "  array = np.array(cosine_distances(correct_emb.reshape(1, -1), translation_emb.reshape(1, -1)))\n",
        "  number = array[0][0]\n",
        "  #return(translator_name, number, translation)\n",
        "  return(number)"
      ]
    },
    {
      "cell_type": "code",
      "execution_count": 22,
      "metadata": {
        "colab": {
          "base_uri": "https://localhost:8080/",
          "height": 424
        },
        "id": "-P1G9hcPBdx9",
        "outputId": "3a364e8e-7d3e-49ab-a84a-f3a2015a0a81"
      },
      "outputs": [
        {
          "output_type": "execute_result",
          "data": {
            "text/plain": [
              "                                                    ja  \\\n",
              "0                    奥さんの方はやせて、金髪で、なんと首の長さが普通の人の二倍はある。   \n",
              "1    八時半、ダーズリー氏は鞄を持ち、奥さんの頬にちょこっとキスして、それからダドリー坊やにもバイ...   \n",
              "2          坊やがかんしゃくを起こして、コーンフレークを皿ごと壁に投げつけている最中だったからだ。   \n",
              "3    「わんぱく坊主め」ダーズリー氏は満足げに笑いながら家を出て、自家用車に乗りこみ、四番地の路地...   \n",
              "4                          ダーズリー氏は瞬きをして、もう一度猫をよく見なおした。   \n",
              "..                                                 ...   \n",
              "297                        不意を食らってハリーはコンクリートの床にひっくり返った   \n",
              "298                       館内にいた客たちは叫び声を上げ、出口に向かってかけ出した   \n",
              "299   おばさんは、知っている人なのかと激しくハリーを問いつめ、何も買わずに二人を連れて店を飛び出した。   \n",
              "300   一度はバスの中で、緑ずくめのとっぴな格好をしたおばあさんがハリーに向かってうれしそうに手を振った   \n",
              "301  つい先日も、ひどく長い紫のマントを着たハゲ頭の男が、街中でハリーとしっかり握手までしてそのま...   \n",
              "\n",
              "                                                   eng  \n",
              "0    Mrs Dursley was thin and blonde and had nearly...  \n",
              "1    At half past eight, Mr. Dursley picked up his ...  \n",
              "2    because Dudley was now having a tantrum and th...  \n",
              "3    chortled Mr Dursley as he left the house. He g...  \n",
              "4            Mr Dursley blinked and stared at the cat.  \n",
              "..                                                 ...  \n",
              "297   Caught by surprise, Harry fell hard on the co...  \n",
              "298  The great snake was uncoiling itself rapidly, ...  \n",
              "299  After asking Harry furiously if he knew the ma...  \n",
              "300  A wild-looking old woman dressed all in green ...  \n",
              "301  A bald man in a very long purple coat had actu...  \n",
              "\n",
              "[302 rows x 2 columns]"
            ],
            "text/html": [
              "\n",
              "  <div id=\"df-287b9fdd-2868-475f-a2d2-78eb922bbf18\" class=\"colab-df-container\">\n",
              "    <div>\n",
              "<style scoped>\n",
              "    .dataframe tbody tr th:only-of-type {\n",
              "        vertical-align: middle;\n",
              "    }\n",
              "\n",
              "    .dataframe tbody tr th {\n",
              "        vertical-align: top;\n",
              "    }\n",
              "\n",
              "    .dataframe thead th {\n",
              "        text-align: right;\n",
              "    }\n",
              "</style>\n",
              "<table border=\"1\" class=\"dataframe\">\n",
              "  <thead>\n",
              "    <tr style=\"text-align: right;\">\n",
              "      <th></th>\n",
              "      <th>ja</th>\n",
              "      <th>eng</th>\n",
              "    </tr>\n",
              "  </thead>\n",
              "  <tbody>\n",
              "    <tr>\n",
              "      <th>0</th>\n",
              "      <td>奥さんの方はやせて、金髪で、なんと首の長さが普通の人の二倍はある。</td>\n",
              "      <td>Mrs Dursley was thin and blonde and had nearly...</td>\n",
              "    </tr>\n",
              "    <tr>\n",
              "      <th>1</th>\n",
              "      <td>八時半、ダーズリー氏は鞄を持ち、奥さんの頬にちょこっとキスして、それからダドリー坊やにもバイ...</td>\n",
              "      <td>At half past eight, Mr. Dursley picked up his ...</td>\n",
              "    </tr>\n",
              "    <tr>\n",
              "      <th>2</th>\n",
              "      <td>坊やがかんしゃくを起こして、コーンフレークを皿ごと壁に投げつけている最中だったからだ。</td>\n",
              "      <td>because Dudley was now having a tantrum and th...</td>\n",
              "    </tr>\n",
              "    <tr>\n",
              "      <th>3</th>\n",
              "      <td>「わんぱく坊主め」ダーズリー氏は満足げに笑いながら家を出て、自家用車に乗りこみ、四番地の路地...</td>\n",
              "      <td>chortled Mr Dursley as he left the house. He g...</td>\n",
              "    </tr>\n",
              "    <tr>\n",
              "      <th>4</th>\n",
              "      <td>ダーズリー氏は瞬きをして、もう一度猫をよく見なおした。</td>\n",
              "      <td>Mr Dursley blinked and stared at the cat.</td>\n",
              "    </tr>\n",
              "    <tr>\n",
              "      <th>...</th>\n",
              "      <td>...</td>\n",
              "      <td>...</td>\n",
              "    </tr>\n",
              "    <tr>\n",
              "      <th>297</th>\n",
              "      <td>不意を食らってハリーはコンクリートの床にひっくり返った</td>\n",
              "      <td>Caught by surprise, Harry fell hard on the co...</td>\n",
              "    </tr>\n",
              "    <tr>\n",
              "      <th>298</th>\n",
              "      <td>館内にいた客たちは叫び声を上げ、出口に向かってかけ出した</td>\n",
              "      <td>The great snake was uncoiling itself rapidly, ...</td>\n",
              "    </tr>\n",
              "    <tr>\n",
              "      <th>299</th>\n",
              "      <td>おばさんは、知っている人なのかと激しくハリーを問いつめ、何も買わずに二人を連れて店を飛び出した。</td>\n",
              "      <td>After asking Harry furiously if he knew the ma...</td>\n",
              "    </tr>\n",
              "    <tr>\n",
              "      <th>300</th>\n",
              "      <td>一度はバスの中で、緑ずくめのとっぴな格好をしたおばあさんがハリーに向かってうれしそうに手を振った</td>\n",
              "      <td>A wild-looking old woman dressed all in green ...</td>\n",
              "    </tr>\n",
              "    <tr>\n",
              "      <th>301</th>\n",
              "      <td>つい先日も、ひどく長い紫のマントを着たハゲ頭の男が、街中でハリーとしっかり握手までしてそのま...</td>\n",
              "      <td>A bald man in a very long purple coat had actu...</td>\n",
              "    </tr>\n",
              "  </tbody>\n",
              "</table>\n",
              "<p>302 rows × 2 columns</p>\n",
              "</div>\n",
              "    <div class=\"colab-df-buttons\">\n",
              "\n",
              "  <div class=\"colab-df-container\">\n",
              "    <button class=\"colab-df-convert\" onclick=\"convertToInteractive('df-287b9fdd-2868-475f-a2d2-78eb922bbf18')\"\n",
              "            title=\"Convert this dataframe to an interactive table.\"\n",
              "            style=\"display:none;\">\n",
              "\n",
              "  <svg xmlns=\"http://www.w3.org/2000/svg\" height=\"24px\" viewBox=\"0 -960 960 960\">\n",
              "    <path d=\"M120-120v-720h720v720H120Zm60-500h600v-160H180v160Zm220 220h160v-160H400v160Zm0 220h160v-160H400v160ZM180-400h160v-160H180v160Zm440 0h160v-160H620v160ZM180-180h160v-160H180v160Zm440 0h160v-160H620v160Z\"/>\n",
              "  </svg>\n",
              "    </button>\n",
              "\n",
              "  <style>\n",
              "    .colab-df-container {\n",
              "      display:flex;\n",
              "      gap: 12px;\n",
              "    }\n",
              "\n",
              "    .colab-df-convert {\n",
              "      background-color: #E8F0FE;\n",
              "      border: none;\n",
              "      border-radius: 50%;\n",
              "      cursor: pointer;\n",
              "      display: none;\n",
              "      fill: #1967D2;\n",
              "      height: 32px;\n",
              "      padding: 0 0 0 0;\n",
              "      width: 32px;\n",
              "    }\n",
              "\n",
              "    .colab-df-convert:hover {\n",
              "      background-color: #E2EBFA;\n",
              "      box-shadow: 0px 1px 2px rgba(60, 64, 67, 0.3), 0px 1px 3px 1px rgba(60, 64, 67, 0.15);\n",
              "      fill: #174EA6;\n",
              "    }\n",
              "\n",
              "    .colab-df-buttons div {\n",
              "      margin-bottom: 4px;\n",
              "    }\n",
              "\n",
              "    [theme=dark] .colab-df-convert {\n",
              "      background-color: #3B4455;\n",
              "      fill: #D2E3FC;\n",
              "    }\n",
              "\n",
              "    [theme=dark] .colab-df-convert:hover {\n",
              "      background-color: #434B5C;\n",
              "      box-shadow: 0px 1px 3px 1px rgba(0, 0, 0, 0.15);\n",
              "      filter: drop-shadow(0px 1px 2px rgba(0, 0, 0, 0.3));\n",
              "      fill: #FFFFFF;\n",
              "    }\n",
              "  </style>\n",
              "\n",
              "    <script>\n",
              "      const buttonEl =\n",
              "        document.querySelector('#df-287b9fdd-2868-475f-a2d2-78eb922bbf18 button.colab-df-convert');\n",
              "      buttonEl.style.display =\n",
              "        google.colab.kernel.accessAllowed ? 'block' : 'none';\n",
              "\n",
              "      async function convertToInteractive(key) {\n",
              "        const element = document.querySelector('#df-287b9fdd-2868-475f-a2d2-78eb922bbf18');\n",
              "        const dataTable =\n",
              "          await google.colab.kernel.invokeFunction('convertToInteractive',\n",
              "                                                    [key], {});\n",
              "        if (!dataTable) return;\n",
              "\n",
              "        const docLinkHtml = 'Like what you see? Visit the ' +\n",
              "          '<a target=\"_blank\" href=https://colab.research.google.com/notebooks/data_table.ipynb>data table notebook</a>'\n",
              "          + ' to learn more about interactive tables.';\n",
              "        element.innerHTML = '';\n",
              "        dataTable['output_type'] = 'display_data';\n",
              "        await google.colab.output.renderOutput(dataTable, element);\n",
              "        const docLink = document.createElement('div');\n",
              "        docLink.innerHTML = docLinkHtml;\n",
              "        element.appendChild(docLink);\n",
              "      }\n",
              "    </script>\n",
              "  </div>\n",
              "\n",
              "\n",
              "<div id=\"df-ac97cf5a-c95e-4446-8af1-20eb247c0aab\">\n",
              "  <button class=\"colab-df-quickchart\" onclick=\"quickchart('df-ac97cf5a-c95e-4446-8af1-20eb247c0aab')\"\n",
              "            title=\"Suggest charts\"\n",
              "            style=\"display:none;\">\n",
              "\n",
              "<svg xmlns=\"http://www.w3.org/2000/svg\" height=\"24px\"viewBox=\"0 0 24 24\"\n",
              "     width=\"24px\">\n",
              "    <g>\n",
              "        <path d=\"M19 3H5c-1.1 0-2 .9-2 2v14c0 1.1.9 2 2 2h14c1.1 0 2-.9 2-2V5c0-1.1-.9-2-2-2zM9 17H7v-7h2v7zm4 0h-2V7h2v10zm4 0h-2v-4h2v4z\"/>\n",
              "    </g>\n",
              "</svg>\n",
              "  </button>\n",
              "\n",
              "<style>\n",
              "  .colab-df-quickchart {\n",
              "      --bg-color: #E8F0FE;\n",
              "      --fill-color: #1967D2;\n",
              "      --hover-bg-color: #E2EBFA;\n",
              "      --hover-fill-color: #174EA6;\n",
              "      --disabled-fill-color: #AAA;\n",
              "      --disabled-bg-color: #DDD;\n",
              "  }\n",
              "\n",
              "  [theme=dark] .colab-df-quickchart {\n",
              "      --bg-color: #3B4455;\n",
              "      --fill-color: #D2E3FC;\n",
              "      --hover-bg-color: #434B5C;\n",
              "      --hover-fill-color: #FFFFFF;\n",
              "      --disabled-bg-color: #3B4455;\n",
              "      --disabled-fill-color: #666;\n",
              "  }\n",
              "\n",
              "  .colab-df-quickchart {\n",
              "    background-color: var(--bg-color);\n",
              "    border: none;\n",
              "    border-radius: 50%;\n",
              "    cursor: pointer;\n",
              "    display: none;\n",
              "    fill: var(--fill-color);\n",
              "    height: 32px;\n",
              "    padding: 0;\n",
              "    width: 32px;\n",
              "  }\n",
              "\n",
              "  .colab-df-quickchart:hover {\n",
              "    background-color: var(--hover-bg-color);\n",
              "    box-shadow: 0 1px 2px rgba(60, 64, 67, 0.3), 0 1px 3px 1px rgba(60, 64, 67, 0.15);\n",
              "    fill: var(--button-hover-fill-color);\n",
              "  }\n",
              "\n",
              "  .colab-df-quickchart-complete:disabled,\n",
              "  .colab-df-quickchart-complete:disabled:hover {\n",
              "    background-color: var(--disabled-bg-color);\n",
              "    fill: var(--disabled-fill-color);\n",
              "    box-shadow: none;\n",
              "  }\n",
              "\n",
              "  .colab-df-spinner {\n",
              "    border: 2px solid var(--fill-color);\n",
              "    border-color: transparent;\n",
              "    border-bottom-color: var(--fill-color);\n",
              "    animation:\n",
              "      spin 1s steps(1) infinite;\n",
              "  }\n",
              "\n",
              "  @keyframes spin {\n",
              "    0% {\n",
              "      border-color: transparent;\n",
              "      border-bottom-color: var(--fill-color);\n",
              "      border-left-color: var(--fill-color);\n",
              "    }\n",
              "    20% {\n",
              "      border-color: transparent;\n",
              "      border-left-color: var(--fill-color);\n",
              "      border-top-color: var(--fill-color);\n",
              "    }\n",
              "    30% {\n",
              "      border-color: transparent;\n",
              "      border-left-color: var(--fill-color);\n",
              "      border-top-color: var(--fill-color);\n",
              "      border-right-color: var(--fill-color);\n",
              "    }\n",
              "    40% {\n",
              "      border-color: transparent;\n",
              "      border-right-color: var(--fill-color);\n",
              "      border-top-color: var(--fill-color);\n",
              "    }\n",
              "    60% {\n",
              "      border-color: transparent;\n",
              "      border-right-color: var(--fill-color);\n",
              "    }\n",
              "    80% {\n",
              "      border-color: transparent;\n",
              "      border-right-color: var(--fill-color);\n",
              "      border-bottom-color: var(--fill-color);\n",
              "    }\n",
              "    90% {\n",
              "      border-color: transparent;\n",
              "      border-bottom-color: var(--fill-color);\n",
              "    }\n",
              "  }\n",
              "</style>\n",
              "\n",
              "  <script>\n",
              "    async function quickchart(key) {\n",
              "      const quickchartButtonEl =\n",
              "        document.querySelector('#' + key + ' button');\n",
              "      quickchartButtonEl.disabled = true;  // To prevent multiple clicks.\n",
              "      quickchartButtonEl.classList.add('colab-df-spinner');\n",
              "      try {\n",
              "        const charts = await google.colab.kernel.invokeFunction(\n",
              "            'suggestCharts', [key], {});\n",
              "      } catch (error) {\n",
              "        console.error('Error during call to suggestCharts:', error);\n",
              "      }\n",
              "      quickchartButtonEl.classList.remove('colab-df-spinner');\n",
              "      quickchartButtonEl.classList.add('colab-df-quickchart-complete');\n",
              "    }\n",
              "    (() => {\n",
              "      let quickchartButtonEl =\n",
              "        document.querySelector('#df-ac97cf5a-c95e-4446-8af1-20eb247c0aab button');\n",
              "      quickchartButtonEl.style.display =\n",
              "        google.colab.kernel.accessAllowed ? 'block' : 'none';\n",
              "    })();\n",
              "  </script>\n",
              "</div>\n",
              "    </div>\n",
              "  </div>\n"
            ],
            "application/vnd.google.colaboratory.intrinsic+json": {
              "type": "dataframe",
              "variable_name": "df",
              "summary": "{\n  \"name\": \"df\",\n  \"rows\": 302,\n  \"fields\": [\n    {\n      \"column\": \"ja\",\n      \"properties\": {\n        \"dtype\": \"string\",\n        \"num_unique_values\": 302,\n        \"samples\": [\n          \"\\u30de\\u30b0\\u30eb\\u306e\\u5bb6\\u304b\\u3089\\u6765\\u305f\\u5b50\\u3082\\u305f\\u304f\\u3055\\u3093\\u3044\\u3066\\u3001\\u5f7c\\u3089\\u3082\\u30cf\\u30ea\\u30fc\\u3068\\u540c\\u3058\\u3088\\u3046\\u306b\\u3001\\u3053\\u3053\\u306b\\u6765\\u308b\\u307e\\u3067\\u306f\\u81ea\\u5206\\u304c\\u9b54\\u6cd5\\u4f7f\\u3044\\u3084\\u9b54\\u5973\\u3067\\u3042\\u308b\\u3068\\u306f\\u5922\\u306b\\u3082\\u601d\\u3063\\u3066\\u3044\\u306a\\u304b\\u3063\\u305f\",\n          \"\\u9a5a\\u3044\\u305f\\u3053\\u3068\\u306b\\u3001\\u30b3\\u30ce\\u30cf\\u30ba\\u30af\\u306f\\u30cf\\u30ea\\u30fc\\u306e\\u771f\\u3093\\u524d\\u306b\\u821e\\u3044\\u964d\\u308a\\u3066\\u3001\\u305d\\u306e\\u5927\\u304d\\u306a\\u5305\\u307f\\u3092\\u843d\\u3068\\u3057\\u3001\\u30cf\\u30ea\\u30fc\\u306e\\u98df\\u3079\\u3066\\u3044\\u305f\\u30d9\\u30fc\\u30b3\\u30f3\\u304c\\u306f\\u306d\\u3066\\u5e8a\\u306b\\u843d\\u3061\\u305f\",\n          \"\\u540c\\u3058\\u3088\\u3046\\u306b\\u5909\\u3066\\u3053\\u308a\\u3093\\u3067\\u3001\\u540c\\u3058\\u3088\\u3046\\u306b\\u2026\\u2026\\u307e\\u3068\\u3082\\u3058\\u3083\\u306a\\u3044\\u3063\\u3066\\u306d\"\n        ],\n        \"semantic_type\": \"\",\n        \"description\": \"\"\n      }\n    },\n    {\n      \"column\": \"eng\",\n      \"properties\": {\n        \"dtype\": \"string\",\n        \"num_unique_values\": 301,\n        \"samples\": [\n          \"For one thing, when Seamus Finnigan asked eagerly to hear how Quirrell had fought off the zombie, Quirrell went pink and started talking about the weather.\",\n          \"Dudley had laughed himself silly at Harry, who spent a sleepless night imagining school the next day, where he was already laughed at for his baggy clothes and Sellotaped glasses.\",\n          \"\\u2018A Nimbus Two Thousand, sir,\\u2019 said Harry, fighting not to laugh at the look of horror on Malfoy\\u2019s face\"\n        ],\n        \"semantic_type\": \"\",\n        \"description\": \"\"\n      }\n    }\n  ]\n}"
            }
          },
          "metadata": {},
          "execution_count": 22
        }
      ],
      "source": [
        "df = pd.read_excel('project.xlsx')\n",
        "df\n",
        "# наши данные"
      ]
    },
    {
      "cell_type": "markdown",
      "source": [
        "Как работает"
      ],
      "metadata": {
        "id": "1dhI9Z_u0bNx"
      }
    },
    {
      "cell_type": "code",
      "source": [
        "correct_emb = embed('黒い髪をひこつめて、小さな髷にしている')"
      ],
      "metadata": {
        "id": "gpIEGc1QhmOj"
      },
      "execution_count": 23,
      "outputs": []
    },
    {
      "cell_type": "code",
      "source": [
        "# bing\n",
        "print(ts.translate_text(query_text='Her black hair was drawn into a tight bun.', translator_name='bing', from_language='en', to_language='ja'))\n",
        "translation_emb = embed(ts.translate_text(query_text='Her black hair was drawn into a tight bun.', translator_name='bing', from_language='en', to_language='ja'))\n",
        "array = np.array(cosine_distances(correct_emb.reshape(1, -1), translation_emb.reshape(1, -1)))\n",
        "number = array[0][0]\n",
        "print(number)"
      ],
      "metadata": {
        "colab": {
          "base_uri": "https://localhost:8080/"
        },
        "id": "T8UcBUe7Zeit",
        "outputId": "60de51d3-3dab-432f-b8f8-56413b53cf76"
      },
      "execution_count": 24,
      "outputs": [
        {
          "output_type": "stream",
          "name": "stdout",
          "text": [
            "彼女の黒髪はきつく束ねられていました。\n",
            "0.41364503\n"
          ]
        }
      ]
    },
    {
      "cell_type": "code",
      "source": [
        "# google\n",
        "text = 'Her black hair was drawn into a tight bun.'\n",
        "translator = Translator()\n",
        "print(translator.translate(text, 'ja'))\n",
        "print(translator.translate(text, 'ja').text)\n",
        "translation_emb = embed(translator.translate(text, 'ja').text)\n",
        "array = np.array(cosine_distances(correct_emb.reshape(1, -1), translation_emb.reshape(1, -1)))\n",
        "number = array[0][0]\n",
        "print(number)"
      ],
      "metadata": {
        "colab": {
          "base_uri": "https://localhost:8080/"
        },
        "id": "4yPsTQpWaC4o",
        "outputId": "44adc658-2b18-4789-f827-b050ef91574d"
      },
      "execution_count": 25,
      "outputs": [
        {
          "output_type": "stream",
          "name": "stdout",
          "text": [
            "Translated(src=en, dest=ja, text=彼女の黒髪はタイトなお団子にまとめられていた。, pronunciation=Kanojo no kurokami wa taitona o dango ni matome rarete ita., extra_data=\"{'translat...\")\n",
            "彼女の黒髪はタイトなお団子にまとめられていた。\n",
            "0.37002355\n"
          ]
        }
      ]
    },
    {
      "cell_type": "code",
      "source": [
        "#M2M100\n",
        "encoded_hi = tokenizer('Her black hair was drawn into a tight bun.', return_tensors=\"pt\")\n",
        "generated_tokens = model.generate(**{k: v.to(model.device) for k, v in encoded_hi.items()}, forced_bos_token_id=tokenizer.get_lang_id(\"ja\"))\n",
        "print(tokenizer.batch_decode(generated_tokens, skip_special_tokens=True))\n",
        "translation_emb = embed(tokenizer.batch_decode(generated_tokens, skip_special_tokens=True))\n",
        "array = np.array(cosine_distances(correct_emb.reshape(1, -1), translation_emb.reshape(1, -1)))\n",
        "number = array[0][0]\n",
        "print(number)"
      ],
      "metadata": {
        "colab": {
          "base_uri": "https://localhost:8080/"
        },
        "id": "7t4x3a58dBlA",
        "outputId": "3075c1e4-8217-4ba3-820e-f206356fe6f6"
      },
      "execution_count": 26,
      "outputs": [
        {
          "output_type": "stream",
          "name": "stdout",
          "text": [
            "['彼女の黒い髪の毛は、緊密なバンに描かれていました。']\n",
            "0.47417712\n"
          ]
        }
      ]
    },
    {
      "cell_type": "code",
      "source": [
        "# correct\n",
        "translation_emb = embed('黒い髪をひこつめて、小さな髷にしている')\n",
        "array = np.array(cosine_distances(correct_emb.reshape(1, -1), translation_emb.reshape(1, -1)))\n",
        "number = array[0][0]\n",
        "print(number)"
      ],
      "metadata": {
        "colab": {
          "base_uri": "https://localhost:8080/"
        },
        "id": "cF_1tSlpgji9",
        "outputId": "e415acf6-7435-4153-b316-d293c95e6953"
      },
      "execution_count": 27,
      "outputs": [
        {
          "output_type": "stream",
          "name": "stdout",
          "text": [
            "0.0\n"
          ]
        }
      ]
    },
    {
      "cell_type": "markdown",
      "metadata": {
        "id": "TjJUFWevasWw"
      },
      "source": [
        "Класс с наследованием"
      ]
    },
    {
      "cell_type": "code",
      "execution_count": 28,
      "metadata": {
        "id": "WvLY-5ZHHIVX"
      },
      "outputs": [],
      "source": [
        "class Ultra_Translator:\n",
        "  def __init__(self, text, correct_translation, translator_name, src):\n",
        "    self.text = text\n",
        "    self.correct_translation = correct_translation\n",
        "    self.translator_name = translator_name\n",
        "    self.src = src\n",
        "\n",
        "  def translate(self, text, translator_name, src):\n",
        "    try:\n",
        "      if translator_name == 'bing':\n",
        "        return BingTranslator(self.text, self.correct_translation, self.translator_name, self.src).custom_translate(self.text, self.translator_name, self.src)\n",
        "      if translator_name == 'google':\n",
        "        return GoogleTranslator(self.text, self.correct_translation, self.translator_name, self.src).custom_translate(self.text, self.translator_name, self.src)\n",
        "      if translator_name == 'M2M100':\n",
        "        return M2M100Translator(self.text, self.correct_translation, self.translator_name, self.src).custom_translate(self.text, self.translator_name, self.src)\n",
        "    except:\n",
        "      return ('try another translator')\n",
        "\n",
        "  def evaluate(self):\n",
        "    translation = self.translate(self.text, self.translator_name, self.src)\n",
        "    correct_emb = embed(self.correct_translation)\n",
        "    translation_emb = embed(translation)\n",
        "    array = np.array(cosine_distances(correct_emb.reshape(1, -1), translation_emb.reshape(1, -1)))\n",
        "    return array[0][0]\n",
        "\n",
        "class BingTranslator(Ultra_Translator):\n",
        "  def custom_translate(self, text, translator_name, src):\n",
        "    return ts.translate_text(query_text=self.text, translator=self.translator_name, from_language=self.src, to_language='ja')\n",
        "\n",
        "class GoogleTranslator(Ultra_Translator):\n",
        "  def custom_translate(self, text, translator_name, src):\n",
        "    return translator.translate(text, 'ja').text\n",
        "\n",
        "class M2M100Translator(Ultra_Translator):\n",
        "  def custom_translate(self, text, translator_name, src):\n",
        "    encoded_hi = tokenizer(text, return_tensors=\"pt\")\n",
        "    generated_tokens = model.generate(**{k: v.to(model.device) for k, v in encoded_hi.items()}, forced_bos_token_id=tokenizer.get_lang_id(\"ja\"))\n",
        "    return tokenizer.batch_decode(generated_tokens, skip_special_tokens=True)\n",
        "\n",
        "def mean(translator_name):\n",
        "  results = []\n",
        "  for index, row in df.iterrows():\n",
        "    translator = Ultra_Translator(row['eng'], row['ja'], translator_name, 'en')\n",
        "    results.append(translator.evaluate())\n",
        "  return statistics.mean(results)"
      ]
    },
    {
      "cell_type": "code",
      "execution_count": 29,
      "metadata": {
        "colab": {
          "base_uri": "https://localhost:8080/"
        },
        "id": "a6gdwpYenwIw",
        "outputId": "12bf62b4-19a4-4a96-facb-3c30f1bc9a27"
      },
      "outputs": [
        {
          "output_type": "stream",
          "name": "stdout",
          "text": [
            "0.22164746\n",
            "CPU times: user 12 s, sys: 143 ms, total: 12.2 s\n",
            "Wall time: 2min 14s\n"
          ]
        }
      ],
      "source": [
        "%%time\n",
        "print(mean('bing'))"
      ]
    },
    {
      "cell_type": "code",
      "execution_count": 30,
      "metadata": {
        "colab": {
          "base_uri": "https://localhost:8080/"
        },
        "id": "CXGru4k1rsNp",
        "outputId": "44370971-b39f-49eb-ff5e-b3fd171eabc8"
      },
      "outputs": [
        {
          "output_type": "stream",
          "name": "stdout",
          "text": [
            "0.2186609\n",
            "CPU times: user 11.9 s, sys: 227 ms, total: 12.1 s\n",
            "Wall time: 43.2 s\n"
          ]
        }
      ],
      "source": [
        "%%time\n",
        "print(mean('google'))"
      ]
    },
    {
      "cell_type": "code",
      "source": [
        "%%time\n",
        "print(mean('M2M100'))"
      ],
      "metadata": {
        "colab": {
          "base_uri": "https://localhost:8080/"
        },
        "id": "OEsQ8LtysGpg",
        "outputId": "c5df5164-503a-40fe-8f92-effd7a8064b8"
      },
      "execution_count": 31,
      "outputs": [
        {
          "output_type": "stream",
          "name": "stdout",
          "text": [
            "0.48065284\n",
            "CPU times: user 4min 18s, sys: 541 ms, total: 4min 19s\n",
            "Wall time: 4min 21s\n"
          ]
        }
      ]
    },
    {
      "cell_type": "markdown",
      "metadata": {
        "id": "4ym1tOzAapNB"
      },
      "source": [
        "Юнит-тест"
      ]
    },
    {
      "cell_type": "code",
      "execution_count": 32,
      "metadata": {
        "id": "5VVvKEXcmgiN"
      },
      "outputs": [],
      "source": [
        "import unittest\n",
        "from unittest.mock import patch\n",
        "\n",
        "class TestUltraTranslator(unittest.TestCase):\n",
        "\n",
        "    def setUp(self):\n",
        "        print('setting up an object')\n",
        "        self.df = pd.DataFrame({\n",
        "            'eng': ['Hello', 'Good morning', 'How are you?'],\n",
        "            'ja': ['こんにちは', 'おはようございます', 'お元気ですか？']\n",
        "        })\n",
        "        self.test_text = 'Hello'\n",
        "        self.test_correct_translation = 'こんにちは'\n",
        "        self.test_translator_name = 'bing'\n",
        "        self.test_src = 'en'\n",
        "\n",
        "    @classmethod\n",
        "\n",
        "    def test_translate_incorrect_translation(self):\n",
        "        bing_translator = BingTranslator(self.test_text, self.test_correct_translation, self.test_translator_name, self.test_src)\n",
        "        self.assertEqual(bing_translator.custom_translate(self.test_text, self.test_translator_name, self.test_src), '面倒くさい')\n",
        "\n",
        "    def test_translate_incorrect_dest(self):\n",
        "        bing_translator = BingTranslator(self.test_text, self.test_correct_translation, self.test_translator_name, self.test_src, 'fr')\n",
        "        self.assertEqual(bing_translator.custom_translate(self.test_text, self.test_translator_name, self.test_src, 'fr'), 'こんにちは')\n",
        "\n",
        "    def test_translate_incorrect_translator(self):\n",
        "        bing_translator = BingTranslator(self.test_text, self.test_correct_translation, 'baidu', self.test_src)\n",
        "        self.assertEqual(bing_translator.custom_translate(self.test_text, 'baidu', self.test_src), 'こんにちは')\n",
        "\n",
        "    def test_translate_incorrect_source(self):\n",
        "        bing_translator = BingTranslator(self.test_text, self.test_correct_translation, self.test_translator_name, 'de')\n",
        "        self.assertEqual(bing_translator.custom_translate(self.test_text, self.test_translator_name, 'de'), 'こんにちは')\n",
        "\n",
        "    def test_mean(self):\n",
        "        self.assertTrue(-1 <= mean(self.test_translator_name) <= 1)"
      ]
    },
    {
      "cell_type": "code",
      "execution_count": 33,
      "metadata": {
        "colab": {
          "base_uri": "https://localhost:8080/"
        },
        "id": "QEfP4R2C0yys",
        "outputId": "14531a7c-09d3-4734-bf6c-1508c3055e7c"
      },
      "outputs": [
        {
          "output_type": "stream",
          "name": "stderr",
          "text": [
            "test_mean (__main__.TestUltraTranslator) ... "
          ]
        },
        {
          "output_type": "stream",
          "name": "stdout",
          "text": [
            "setting up an object\n"
          ]
        },
        {
          "output_type": "stream",
          "name": "stderr",
          "text": [
            "ok\n",
            "test_translate_incorrect_dest (__main__.TestUltraTranslator) ... ERROR\n",
            "test_translate_incorrect_source (__main__.TestUltraTranslator) ... ok\n",
            "test_translate_incorrect_translation (__main__.TestUltraTranslator) ... ERROR\n",
            "test_translate_incorrect_translator (__main__.TestUltraTranslator) ... "
          ]
        },
        {
          "output_type": "stream",
          "name": "stdout",
          "text": [
            "setting up an object\n",
            "setting up an object\n",
            "setting up an object\n",
            "setting up an object\n"
          ]
        },
        {
          "output_type": "stream",
          "name": "stderr",
          "text": [
            "ERROR\n",
            "\n",
            "======================================================================\n",
            "ERROR: test_translate_incorrect_dest (__main__.TestUltraTranslator)\n",
            "----------------------------------------------------------------------\n",
            "Traceback (most recent call last):\n",
            "  File \"<ipython-input-32-63478918850d>\", line 24, in test_translate_incorrect_dest\n",
            "    bing_translator = BingTranslator(self.test_text, self.test_correct_translation, self.test_translator_name, self.test_src, 'fr')\n",
            "TypeError: Ultra_Translator.__init__() takes 5 positional arguments but 6 were given\n",
            "\n",
            "======================================================================\n",
            "ERROR: test_translate_incorrect_translation (__main__.TestUltraTranslator)\n",
            "----------------------------------------------------------------------\n",
            "Traceback (most recent call last):\n",
            "  File \"<ipython-input-32-63478918850d>\", line 20, in test_translate_incorrect_translation\n",
            "    bing_translator = BingTranslator(self.test_text, self.test_correct_translation, self.test_translator_name, self.test_src)\n",
            "AttributeError: type object 'TestUltraTranslator' has no attribute 'test_text'\n",
            "\n",
            "======================================================================\n",
            "ERROR: test_translate_incorrect_translator (__main__.TestUltraTranslator)\n",
            "----------------------------------------------------------------------\n",
            "Traceback (most recent call last):\n",
            "  File \"/usr/local/lib/python3.10/dist-packages/translators/server.py\", line 296, in _wrapper\n",
            "    return func(*args, **kwargs)\n",
            "  File \"/usr/local/lib/python3.10/dist-packages/translators/server.py\", line 117, in _wrapper\n",
            "    return func(*args, **kwargs)\n",
            "  File \"/usr/local/lib/python3.10/dist-packages/translators/server.py\", line 288, in _wrapper\n",
            "    return func(*args, **{**kwargs, **{'query_text': query_text}})\n",
            "  File \"/usr/local/lib/python3.10/dist-packages/translators/server.py\", line 725, in baidu_api\n",
            "    from_language, to_language = self.check_language(from_language, to_language, self.language_map, output_zh=self.output_zh)\n",
            "  File \"/usr/local/lib/python3.10/dist-packages/translators/server.py\", line 196, in check_language\n",
            "    raise TranslatorError('Unsupported to_language[{}] in {}.'.format(to_language, sorted(language_map.keys())))\n",
            "translators.server.TranslatorError: Unsupported to_language[ja] in ['ach', 'afr', 'aka', 'alb', 'amh', 'ara', 'arg', 'arm', 'arq', 'asm', 'ast', 'auto', 'aym', 'aze', 'bak', 'bal', 'baq', 'bel', 'bem', 'ben', 'ber', 'bho', 'bis', 'bli', 'bos', 'bre', 'bui', 'bul', 'bur', 'cat', 'ceb', 'che', 'chr', 'cht', 'chv', 'cor', 'cos', 'cre', 'cri', 'cs', 'dan', 'de', 'div', 'dzo', 'el', 'en', 'eno', 'epo', 'est', 'fao', 'fil', 'fin', 'fra', 'fri', 'frm', 'frn', 'fry', 'ful', 'geo', 'gla', 'gle', 'glg', 'glv', 'gra', 'grn', 'guj', 'hak', 'hau', 'haw', 'heb', 'hi', 'hil', 'hkm', 'hmn', 'hrv', 'ht', 'hu', 'hup', 'ibo', 'ice', 'id', 'ido', 'iku', 'ina', 'ing', 'it', 'jav', 'jp', 'kab', 'kah', 'kal', 'kam', 'kan', 'kas', 'kau', 'kin', 'kir', 'kli', 'kok', 'kon', 'kor', 'kur', 'lag', 'lao', 'lat', 'lav', 'lim', 'lin', 'lit', 'log', 'loj', 'los', 'ltz', 'lug', 'mac', 'mah', 'mai', 'mal', 'mao', 'mar', 'mau', 'may', 'mg', 'mlt', 'moc', 'mon', 'mot', 'nbl', 'nea', 'nep', 'nl', 'nno', 'nob', 'nor', 'nqo', 'nya', 'oci', 'oji', 'ori', 'orm', 'oss', 'pam', 'pan', 'pap', 'ped', 'per', 'pl', 'pot', 'pt', 'pus', 'que', 'ro', 'roh', 'rom', 'ru', 'ruy', 'san', 'sco', 'sec', 'sha', 'sil', 'sin', 'sk', 'slo', 'sm', 'sme', 'sna', 'snd', 'sol', 'som', 'sot', 'spa', 'src', 'srd', 'srp', 'sun', 'swa', 'swe', 'syr', 'tam', 'tat', 'tel', 'tet', 'tgk', 'tgl', 'th', 'tib', 'tir', 'tr', 'tso', 'tua', 'tuk', 'twi', 'uig', 'ukr', 'ups', 'urd', 'ven', 'vie', 'wel', 'wln', 'wol', 'wyw', 'xho', 'yid', 'yor', 'yue', 'zaz', 'zh', 'zul'].\n",
            "\n",
            "During handling of the above exception, another exception occurred:\n",
            "\n",
            "Traceback (most recent call last):\n",
            "  File \"<ipython-input-32-63478918850d>\", line 29, in test_translate_incorrect_translator\n",
            "    self.assertEqual(bing_translator.custom_translate(self.test_text, 'baidu', self.test_src), 'こんにちは')\n",
            "  File \"<ipython-input-28-182d586a9def>\", line 28, in custom_translate\n",
            "    return ts.translate_text(query_text=self.text, translator=self.translator_name, from_language=self.src, to_language='ja')\n",
            "  File \"/usr/local/lib/python3.10/dist-packages/translators/server.py\", line 5662, in translate_text\n",
            "    return self.translators_dict[translator](query_text=query_text, from_language=from_language, to_language=to_language, **kwargs)\n",
            "  File \"/usr/local/lib/python3.10/dist-packages/translators/server.py\", line 301, in _wrapper\n",
            "    raise TranslatorError(f'{raise_tips1} {raise_tips2}')\n",
            "translators.server.TranslatorError: The function baidu() has been not certified yet. Please read for details: Status of Translator on this webpage(https://github.com/UlionTse/translators#supported-translation-services).\n",
            "\n",
            "----------------------------------------------------------------------\n",
            "Ran 5 tests in 53.013s\n",
            "\n",
            "FAILED (errors=3)\n"
          ]
        },
        {
          "output_type": "execute_result",
          "data": {
            "text/plain": [
              "<unittest.main.TestProgram at 0x7f27990ef370>"
            ]
          },
          "metadata": {},
          "execution_count": 33
        }
      ],
      "source": [
        "unittest.main(argv=[''], verbosity=2, exit=False)"
      ]
    },
    {
      "cell_type": "code",
      "source": [
        "# демонстрация с неправильным source\n",
        "print(ts.translate_text(query_text='Hello', translator='bing', from_language='de', to_language='ja'))\n",
        "print(ts.translate_text(query_text='Hello', translator='bing', from_language='fr', to_language='ja'))\n",
        "print(ts.translate_text(query_text='Hello', translator='bing', from_language='ru', to_language='ja'))"
      ],
      "metadata": {
        "colab": {
          "base_uri": "https://localhost:8080/"
        },
        "id": "dPuBKR9b_16O",
        "outputId": "14452a6b-a18a-4d8c-a2c8-bc1969c02602"
      },
      "execution_count": 34,
      "outputs": [
        {
          "output_type": "stream",
          "name": "stdout",
          "text": [
            "こんにちは\n",
            "こんにちは\n",
            "こんにちは\n"
          ]
        }
      ]
    },
    {
      "cell_type": "markdown",
      "metadata": {
        "id": "slkqfluMGjA1"
      },
      "source": [
        "С Фасадом"
      ]
    },
    {
      "cell_type": "code",
      "execution_count": 35,
      "metadata": {
        "id": "dO5qBeoEAd4n"
      },
      "outputs": [],
      "source": [
        "class BaseTranslationEngine: # абстрактный класс\n",
        "  def translate(self, text: str, translator_name: str, src: str) -> str:\n",
        "    raise NotImplementedError(\"что-то пошло не так\")\n",
        "\n",
        "class BingTranslationEngine(BaseTranslationEngine): # наследующийся класс для bing\n",
        "  def translate(self, text: str, translator_name: str, src: str) -> str:\n",
        "    return ts.translate_text(query_text=text, translator_name='bing', from_language=src, to_language='ja')\n",
        "\n",
        "class GoogleTranslationEngine(BaseTranslationEngine): # наследующийся класс для google\n",
        "  def translate(self, text: str, translator_name: str, src: str) -> str:\n",
        "    return translator.translate(text, 'ja').text\n",
        "\n",
        "class M2M100TranslationEngine(BaseTranslationEngine): # наследующийся класс для модельки с huggingface\n",
        "  def translate(self, text: str, translator_name: str, src: str) -> str:\n",
        "    encoded_hi = tokenizer(text, return_tensors=\"pt\")\n",
        "    generated_tokens = model.generate(**{k: v.to(model.device) for k, v in encoded_hi.items()}, forced_bos_token_id=tokenizer.get_lang_id(\"ja\"))\n",
        "    return tokenizer.batch_decode(generated_tokens, skip_special_tokens=True)\n",
        "\n",
        "class EvaluationEngine: # для подсчёта схожести\n",
        "  def evaluate(self, correct_translation: str, translation: str) -> float:\n",
        "    correct_emb = embed(correct_translation)\n",
        "    translation_emb = embed(translation)\n",
        "    array = np.array(cosine_distances(correct_emb.reshape(1, -1), translation_emb.reshape(1, -1)))\n",
        "    return array[0][0]\n",
        "\n",
        "class TranslatorFacade: # фасад\n",
        "  def __init__(self, translation_engine: BaseTranslationEngine, evaluation_engine=None):\n",
        "    self.translation_engine = translation_engine\n",
        "    self.evaluation_engine = EvaluationEngine()\n",
        "\n",
        "  def translate(self, text: str, translator_name: str, src: str) -> str:\n",
        "    return self.translation_engine.translate(text, translator_name, src)\n",
        "\n",
        "  def evaluate_translation(self, correct_translation: str, text: str, translator_name: str, src: str) -> float:\n",
        "    translation = self.translate(text, translator_name, src)\n",
        "    return self.evaluation_engine.evaluate(correct_translation, translation)\n",
        "\n",
        "def mean_f(translator_name: str) -> float: # основная функция\n",
        "  translator_engines = {\n",
        "        'bing': BingTranslationEngine,\n",
        "        'google': GoogleTranslationEngine,\n",
        "        'M2M100': M2M100TranslationEngine\n",
        "    }\n",
        "  try:\n",
        "    translator_engine = translator_engines[translator_name]()\n",
        "  except KeyError:\n",
        "    raise ValueError(\"нет такого переводчика!\")\n",
        "\n",
        "  facade = TranslatorFacade(translator_engine)\n",
        "  results = []\n",
        "  for index, row in df.iterrows():\n",
        "    try:\n",
        "      score = facade.evaluate_translation(row['ja'], row['eng'], translator_name, 'en')\n",
        "      results.append(score)\n",
        "    except Exception as e:\n",
        "      print(f\"ошибка! {e}\")\n",
        "      results.append(np.nan)\n",
        "  return statistics.mean(results) if results else np.nan"
      ]
    },
    {
      "cell_type": "code",
      "execution_count": 36,
      "metadata": {
        "colab": {
          "base_uri": "https://localhost:8080/"
        },
        "id": "EVUmQc04grCW",
        "outputId": "b6f1e38f-80ba-4422-ac5d-ea332a255efe"
      },
      "outputs": [
        {
          "output_type": "stream",
          "name": "stdout",
          "text": [
            "bing 0.22164746\n",
            "google 0.21876797\n",
            "M2M100 0.48065284\n"
          ]
        }
      ],
      "source": [
        "translators_list = ['bing', 'google', 'M2M100']\n",
        "for t in translators_list:\n",
        "  print(t, mean_f(t))"
      ]
    }
  ],
  "metadata": {
    "accelerator": "GPU",
    "colab": {
      "gpuType": "T4",
      "provenance": [],
      "authorship_tag": "ABX9TyPdVCBypwT7yHGSRBMCYkRs",
      "include_colab_link": true
    },
    "kernelspec": {
      "display_name": "Python 3",
      "name": "python3"
    },
    "language_info": {
      "name": "python"
    }
  },
  "nbformat": 4,
  "nbformat_minor": 0
}